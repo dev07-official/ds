{
 "cells": [
  {
   "cell_type": "markdown",
   "id": "7fa2282f-984d-4cd6-b529-ceea1fba65ca",
   "metadata": {},
   "source": [
    "# Data Science Tools and Ecosystem"
   ]
  },
  {
   "cell_type": "markdown",
   "id": "64cb3dac-4154-41c5-8993-6cf2a0be03f6",
   "metadata": {},
   "source": [
    "In this notebook, Data Science Tools and Ecosystem are summarized."
   ]
  },
  {
   "cell_type": "markdown",
   "id": "f46e5948-029a-4962-9924-6c42c0f1b4fe",
   "metadata": {},
   "source": [
    "Some of the popular languages that Data Scientists use are:\n",
    "1. python\n",
    "2. R\n",
    "3. java"
   ]
  },
  {
   "cell_type": "markdown",
   "id": "0a012c58-7ca0-4d22-875a-ad383db01246",
   "metadata": {},
   "source": [
    "Some of the commonly used libraries used by Data Scientists include:\n",
    "1. matplotlib\n",
    "2. panada\n",
    "3. numpy"
   ]
  },
  {
   "cell_type": "markdown",
   "id": "caca2c03-45bd-4dcb-ba38-19735a518bc5",
   "metadata": {},
   "source": [
    "Data Science Tools\n",
    "<br>\n",
    "Jupyter Notebook\n",
    "<br>\n",
    "RStudio\n",
    "<br>\n",
    "Visual Studio Code (VS Code)"
   ]
  },
  {
   "cell_type": "markdown",
   "id": "9b355067-9794-4940-ba7e-59ff4b0d4166",
   "metadata": {},
   "source": [
    "Below are a few examples of evaluating arithmetic expressions in Python"
   ]
  },
  {
   "cell_type": "code",
   "execution_count": 3,
   "id": "fdaa828e-74f9-4e1c-859c-10ea56908c59",
   "metadata": {},
   "outputs": [
    {
     "data": {
      "text/plain": [
       "17"
      ]
     },
     "execution_count": 3,
     "metadata": {},
     "output_type": "execute_result"
    }
   ],
   "source": [
    "#This a simple arithmetic expression to mutiply then add integers\n",
    "(3*4)+5"
   ]
  },
  {
   "cell_type": "code",
   "execution_count": 4,
   "id": "ce42825d-b79c-4165-b93b-e4f72fcf7729",
   "metadata": {},
   "outputs": [
    {
     "data": {
      "text/plain": [
       "3.3333333333333335"
      ]
     },
     "execution_count": 4,
     "metadata": {},
     "output_type": "execute_result"
    }
   ],
   "source": [
    "#This will convert 200 minutes to hours by diving by 60\n",
    "200/60"
   ]
  },
  {
   "cell_type": "markdown",
   "id": "d58108af-e5e5-462e-8513-54904aeab417",
   "metadata": {},
   "source": [
    "**Objectives:**\n",
    "<br>\n",
    "* List popular languages for Data Science\n",
    "* Data Science Tools\n",
    "* Some of the commonly used libraries used by Data Scientists"
   ]
  },
  {
   "cell_type": "markdown",
   "id": "38d4b78d-8fd7-41ac-90c5-56abdc7e04c0",
   "metadata": {},
   "source": [
    "## Author\n",
    "Devashish Tripathi"
   ]
  },
  {
   "cell_type": "code",
   "execution_count": null,
   "id": "856cab4e-5622-4e23-aed5-2d46d3a866d8",
   "metadata": {},
   "outputs": [],
   "source": []
  }
 ],
 "metadata": {
  "kernelspec": {
   "display_name": "Python 3 (ipykernel)",
   "language": "python",
   "name": "python3"
  },
  "language_info": {
   "codemirror_mode": {
    "name": "ipython",
    "version": 3
   },
   "file_extension": ".py",
   "mimetype": "text/x-python",
   "name": "python",
   "nbconvert_exporter": "python",
   "pygments_lexer": "ipython3",
   "version": "3.12.3"
  }
 },
 "nbformat": 4,
 "nbformat_minor": 5
}
